{
 "cells": [
  {
   "cell_type": "code",
   "execution_count": 90,
   "metadata": {},
   "outputs": [
    {
     "name": "stdout",
     "output_type": "stream",
     "text": [
      "<Response [200]>\n",
      "和平區下載成功\n"
     ]
    }
   ],
   "source": [
    "import requests\n",
    "\n",
    "town_names = {\"西屯區\",\n",
    "              \"北屯區\",\n",
    "              \"沙鹿區\",\n",
    "              \"清水區\",\n",
    "              \"太平區\",\n",
    "              \"南區\",\n",
    "              \"西區\",\n",
    "              \"霧峰區\",\n",
    "              \"神岡區\",\n",
    "              \"東勢區\",\n",
    "              \"豐原區\",\n",
    "              \"北區\",\n",
    "              \"烏日區\",\n",
    "              \"梧棲區\",\n",
    "              \"大甲區\",\n",
    "              \"大里區\",\n",
    "              \"東區\",\n",
    "              \"南屯區\",\n",
    "              \"大安區\",\n",
    "              \"大肚區\",\n",
    "              \"大安區\",\n",
    "              \"后里區\",\n",
    "              \"石岡區\",\n",
    "              \"大雅區\",\n",
    "              \"龍井區\",\n",
    "              \"潭子區\",\n",
    "              \"新社區\",\n",
    "              \"中區\",\n",
    "              \"外埔區\",\n",
    "              \"和平區\",\n",
    "              }\n",
    "\n",
    "\n",
    "def get_forcase_data(town):\n",
    "    url = f\"https://datacenter.taichung.gov.tw/swagger/OpenData/9af00e84-473a-4f3d-99be-b875d8e86256\"\n",
    "    response = requests.get(url=url)\n",
    "    response.encoding = \"utf-8\"\n",
    "    print(response)\n",
    "\n",
    "    if response.ok:\n",
    "        town_forcase = []\n",
    "        print(f\"{town}下載成功\")\n",
    "        source_data = response.json()[\"retVal\"]\n",
    "        for item in source_data:\n",
    "            town_forcase.append(\n",
    "                [item[\"sarea\"], item[\"sna\"], item[\"ar\"], item[\"tot\"]])\n",
    "       \n",
    "    else:\n",
    "        raise Exception(f\"{town}下載失敗\")\n",
    "\n",
    "\n",
    "get_forcase_data(\"和平區\")\n"
   ]
  },
  {
   "cell_type": "code",
   "execution_count": null,
   "metadata": {},
   "outputs": [],
   "source": [
    "import tkinter as tk\n",
    "class Window(tk.Tk):\n",
    "    def __init__(self, town):\n",
    "        super().__init__()\n",
    "\n",
    "        title_label = tk.Label(self, text=\"臺中市YouBike2.0租借站位置查詢\", font=(\n",
    "            \"標楷體\", 24)).pack(padx=30, pady=30)\n",
    "\n",
    "        buttoms_frame = tk.Frame(self)\n",
    "        buttoms_frame.pack(padx=50, pady=(0, 30))\n",
    "        print(town)\n",
    "        # grid_row_nums = 3\n",
    "        # for index in enumerate(town.items()):\n",
    "\n",
    "        #     btn = tk.Button(buttoms_frame, text=f\"{town}\", font=(\n",
    "        #         \"標楷體\", 16), width=8, height=2, padx=20, pady=5)\n",
    "        #     btn.grid(row=index % grid_row_nums, column=index // grid_row_nums)\n",
    "        #     btn.bind(\"<Button-1>\", self.button_click)\n"
   ]
  }
 ],
 "metadata": {
  "kernelspec": {
   "display_name": "venv",
   "language": "python",
   "name": "python3"
  },
  "language_info": {
   "codemirror_mode": {
    "name": "ipython",
    "version": 3
   },
   "file_extension": ".py",
   "mimetype": "text/x-python",
   "name": "python",
   "nbconvert_exporter": "python",
   "pygments_lexer": "ipython3",
   "version": "3.10.7 (tags/v3.10.7:6cc6b13, Sep  5 2022, 14:08:36) [MSC v.1933 64 bit (AMD64)]"
  },
  "orig_nbformat": 4,
  "vscode": {
   "interpreter": {
    "hash": "c043f2ed5b4219d5bd68fbb439adad3b8477c65aacf8a4b3068c78635da9e9d5"
   }
  }
 },
 "nbformat": 4,
 "nbformat_minor": 2
}
